{
 "cells": [
  {
   "cell_type": "code",
   "execution_count": null,
   "metadata": {},
   "outputs": [],
   "source": [
    "\n",
    "import pandas\n",
    "import numpy as np\n",
    "import math\n",
    "from numpy.random import randint\n",
    "from plotly.offline import plot\n",
    "import plotly.graph_objects as go\n",
    "def funcsig(w,x,b): # sigmoid functions\n",
    "    return 1/(1+np.exp(-np.matmul(w.transpose(),x)+b))\n",
    "\n",
    "\n",
    "\n"
   ]
  },
  {
   "cell_type": "code",
   "execution_count": null,
   "metadata": {},
   "outputs": [],
   "source": [
    "def lossFun(w,M,x,b,lam):\n",
    "    yi=x[:,2]\n",
    "    x=x[:,:2].transpose()\n",
    "    h=funcsig(w,x,b)\n",
    "    reg=(lam/2)*np.matmul(w.transpose(),w)\n",
    "    L= -(1/M)*np.sum((np.multiply(yi,np.log(h)))+(np.multiply(1-yi,np.log(1-h))))+reg\n",
    "    return L\n",
    "    \n",
    "\n",
    "\n",
    "    \n",
    "    "
   ]
  },
  {
   "cell_type": "code",
   "execution_count": null,
   "metadata": {},
   "outputs": [],
   "source": [
    "def gradient(w,M,x,b,lam):\n",
    "    yi=x[:,2]\n",
    "    x=x[:,:2].transpose()\n",
    "    regdir=(lam/2)*np.matmul(w.transpose(),w)\n",
    "    h=funcsig(w,x,b)\n",
    "    x=x.transpose()\n",
    "    return -(np.matmul((yi-h).transpose(),x))+(lam*(w))\n",
    "    \n",
    "    "
   ]
  },
  {
   "cell_type": "code",
   "execution_count": null,
   "metadata": {},
   "outputs": [],
   "source": [
    "def gradientb(w,M,x,b,lam):\n",
    "    yi=x[:,2]\n",
    "    x=x[:,:2].transpose()\n",
    "    h=funcsig(w,x,b)\n",
    "    return -np.sum(yi-h)\n",
    "    "
   ]
  },
  {
   "cell_type": "code",
   "execution_count": null,
   "metadata": {},
   "outputs": [],
   "source": [
    "def gradientDescent(w,M,x,b,iters,lr,lam):\n",
    "    neww=w\n",
    "    newb=b\n",
    "    for x in range(iters):\n",
    "        L=lossFun(neww,len(khd),khd,b,0)\n",
    "        G=gradient(neww,len(khd),khd,b,lam)\n",
    "        B=gradientb(neww,len(khd),khd,b,lam)\n",
    "        neww=neww-(lr*G)\n",
    "        newb=newb-(lr*B)\n",
    "        print(L)\n",
    "    return neww,newb\n",
    "\n",
    "\n",
    "    "
   ]
  },
  {
   "cell_type": "code",
   "execution_count": null,
   "metadata": {},
   "outputs": [],
   "source": [
    "def plotPoints(w,xi,b):\n",
    "    fig = go.Figure()\n",
    "    fig.update_layout(height=1000, width=1000,\n",
    "                      title_text=\"Kid Height Classifier\",\n",
    "                     xaxis_title='Kids Shoe Size',\n",
    "                    yaxis_title='Average Height of Parents'\n",
    "                   )\n",
    "\n",
    "    \n",
    "    fig.add_trace(go.Scatter(x=xi[:,0],y=xi[:,1],mode='markers',marker=dict(size=5, color=xi[:,2])))\n",
    "    xs=np.linspace(0,8,100)\n",
    "    print(w)\n",
    "    x2=-((w[0]/w[1])*xs+b/w[1])\n",
    "    fig.add_trace(go.Line(x=xs,y=x2,name='Classifier Line'))\n",
    "    plot(fig)\n",
    "    \n",
    "    "
   ]
  },
  {
   "cell_type": "code",
   "execution_count": null,
   "metadata": {},
   "outputs": [],
   "source": [
    "khd=np.array(np.loadtxt(\"KidsHeightData.csv\",delimiter=\",\"))\n",
    "w=np.random.rand(2)\n",
    "b=1\n",
    "plotPoints(w,khd,b)\n",
    "w,b=gradientDescent(w,len(khd),khd,b,1000,.001,1e-10)\n",
    "print(w)## loss becomes around .3333\n",
    "plotPoints(w,khd,b)"
   ]
  },
  {
   "cell_type": "code",
   "execution_count": null,
   "metadata": {},
   "outputs": [],
   "source": []
  },
  {
   "cell_type": "code",
   "execution_count": null,
   "metadata": {},
   "outputs": [],
   "source": []
  },
  {
   "cell_type": "code",
   "execution_count": null,
   "metadata": {},
   "outputs": [],
   "source": []
  }
 ],
 "metadata": {
  "kernelspec": {
   "display_name": "Python 3",
   "language": "python",
   "name": "python3"
  },
  "language_info": {
   "codemirror_mode": {
    "name": "ipython",
    "version": 3
   },
   "file_extension": ".py",
   "mimetype": "text/x-python",
   "name": "python",
   "nbconvert_exporter": "python",
   "pygments_lexer": "ipython3",
   "version": "3.7.1"
  }
 },
 "nbformat": 4,
 "nbformat_minor": 2
}
